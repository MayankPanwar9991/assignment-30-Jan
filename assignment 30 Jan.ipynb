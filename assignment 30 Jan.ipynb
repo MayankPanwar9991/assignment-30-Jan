{
 "cells": [
  {
   "cell_type": "code",
   "execution_count": 3,
   "id": "0b299ee4-4541-4892-a714-056a90c07d8c",
   "metadata": {},
   "outputs": [
    {
     "name": "stdin",
     "output_type": "stream",
     "text": [
      " enter marks 98\n"
     ]
    },
    {
     "name": "stdout",
     "output_type": "stream",
     "text": [
      "You will get A Grade\n"
     ]
    }
   ],
   "source": [
    "marks=int(input(' enter marks'))\n",
    "\n",
    "if marks>90:\n",
    "    print('You will get A Grade')\n",
    "elif marks>80 and marks<=90:\n",
    "    print('You will get B Grade')\n",
    "elif marks>=60 and marks<=80:\n",
    "    print('You will get C Grade')\n",
    "else:\n",
    "    print('Yoh will get D Grade')\n",
    "    \n",
    "    "
   ]
  },
  {
   "cell_type": "code",
   "execution_count": 4,
   "id": "1167c91f-958e-4682-999c-f16051acd889",
   "metadata": {},
   "outputs": [
    {
     "name": "stdin",
     "output_type": "stream",
     "text": [
      " enter cost price 50000\n"
     ]
    },
    {
     "name": "stdout",
     "output_type": "stream",
     "text": [
      " discount will be 5%\n"
     ]
    }
   ],
   "source": [
    "price=int(input(' enter cost price'))\n",
    "if price >100000:\n",
    "    print('discount will be 15%')\n",
    "elif price>50000 and price>=100000:\n",
    "    print('discount will be 10%')\n",
    "else:\n",
    "    print(' discount will be 5%')    "
   ]
  },
  {
   "cell_type": "code",
   "execution_count": 7,
   "id": "f3b96444-5892-4f0f-bf77-696cbf46cc74",
   "metadata": {},
   "outputs": [],
   "source": [
    "d1={'Delhi':'Red Fort','Agra':'Taj Mahal','Jaipur':'Jal Mahal'}\n"
   ]
  },
  {
   "cell_type": "code",
   "execution_count": 8,
   "id": "e952437b-80a1-4779-a459-05a32a8d4c88",
   "metadata": {},
   "outputs": [
    {
     "data": {
      "text/plain": [
       "'Red Fort'"
      ]
     },
     "execution_count": 8,
     "metadata": {},
     "output_type": "execute_result"
    }
   ],
   "source": [
    "d1['Delhi']"
   ]
  },
  {
   "cell_type": "code",
   "execution_count": 7,
   "id": "53075803-0732-4a69-9ac8-7682a985cd3e",
   "metadata": {},
   "outputs": [],
   "source": [
    "l=[1,2,3,4,5,6,7,8,9,10]"
   ]
  },
  {
   "cell_type": "code",
   "execution_count": 8,
   "id": "f6790bb5-a698-4942-85be-44f5e4ab5b0e",
   "metadata": {},
   "outputs": [
    {
     "name": "stdout",
     "output_type": "stream",
     "text": [
      "0.3333333333333333\n",
      "0.6666666666666666\n",
      "1.0\n",
      "1.3333333333333333\n",
      "1.6666666666666667\n",
      "2.0\n",
      "2.3333333333333335\n",
      "2.6666666666666665\n",
      "3.0\n",
      "3.3333333333333335\n"
     ]
    }
   ],
   "source": [
    "for i in l:\n",
    "    print(i/3)"
   ]
  },
  {
   "cell_type": "code",
   "execution_count": 10,
   "id": "acb5711d-2c06-473f-8451-2ff32c756c46",
   "metadata": {},
   "outputs": [
    {
     "name": "stdout",
     "output_type": "stream",
     "text": [
      "loop are used to repeat a block of code multriple times. For examply, suppose you have to a mestage 100 times than you can use a loop \n"
     ]
    }
   ],
   "source": [
    "print('loop are used to repeat a block of code multriple times. For examply, suppose you have to a mestage 100 times than you can use a loop ')"
   ]
  },
  {
   "cell_type": "code",
   "execution_count": 12,
   "id": "c21a837b-091a-4fe1-b706-1d7c3f9b0357",
   "metadata": {},
   "outputs": [],
   "source": [
    "l1=[1,2,3,4,5,'hi','hello','mayank',True]"
   ]
  },
  {
   "cell_type": "code",
   "execution_count": 13,
   "id": "7c4e4e6c-d3b2-4836-82a9-eb75d5d8138a",
   "metadata": {},
   "outputs": [
    {
     "data": {
      "text/plain": [
       "[1, 2, 3, 4, 5, 'hi', 'hello', 'mayank', True]"
      ]
     },
     "execution_count": 13,
     "metadata": {},
     "output_type": "execute_result"
    }
   ],
   "source": [
    "l1\n"
   ]
  },
  {
   "cell_type": "code",
   "execution_count": 16,
   "id": "d3c0933f-6315-44ca-95ad-5450bbbcb4a5",
   "metadata": {},
   "outputs": [],
   "source": [
    "l2=[]\n",
    "l3=[]\n",
    "l4=[]\n",
    "for i in l1:\n",
    "    if type(i)==int:\n",
    "        l2.append(i)\n",
    "    elif type(i)==str:\n",
    "            l3.append(i)\n",
    "    else:\n",
    "                l4.append(i)"
   ]
  },
  {
   "cell_type": "code",
   "execution_count": 17,
   "id": "213e8a29-a7eb-4eff-9545-12b62b90f36a",
   "metadata": {},
   "outputs": [
    {
     "data": {
      "text/plain": [
       "[True]"
      ]
     },
     "execution_count": 17,
     "metadata": {},
     "output_type": "execute_result"
    }
   ],
   "source": [
    "l2\n",
    "l3\n",
    "l4"
   ]
  },
  {
   "cell_type": "code",
   "execution_count": 18,
   "id": "3afe6964-7294-433c-93fd-9685872ce49e",
   "metadata": {},
   "outputs": [
    {
     "data": {
      "text/plain": [
       "[1, 2, 3, 4, 5]"
      ]
     },
     "execution_count": 18,
     "metadata": {},
     "output_type": "execute_result"
    }
   ],
   "source": [
    "l2"
   ]
  },
  {
   "cell_type": "markdown",
   "id": "97e65143-7766-451d-869b-ece3f0c68b4f",
   "metadata": {},
   "source": [
    "### "
   ]
  },
  {
   "cell_type": "code",
   "execution_count": 19,
   "id": "e68e8053-d365-492c-a9ed-df1d71b29ca4",
   "metadata": {},
   "outputs": [
    {
     "data": {
      "text/plain": [
       "['hi', 'hello', 'mayank']"
      ]
     },
     "execution_count": 19,
     "metadata": {},
     "output_type": "execute_result"
    }
   ],
   "source": [
    "l3"
   ]
  },
  {
   "cell_type": "code",
   "execution_count": 21,
   "id": "7878499f-f0f1-4a28-aa08-f6e7f83b7d45",
   "metadata": {},
   "outputs": [
    {
     "data": {
      "text/plain": [
       "[True]"
      ]
     },
     "execution_count": 21,
     "metadata": {},
     "output_type": "execute_result"
    }
   ],
   "source": [
    "l4"
   ]
  },
  {
   "cell_type": "code",
   "execution_count": 22,
   "id": "873be020-ff5f-4393-a6e8-42bef630556d",
   "metadata": {},
   "outputs": [],
   "source": [
    "l=[1,2,3,4,5,6,7,8,9,10]"
   ]
  },
  {
   "cell_type": "code",
   "execution_count": 33,
   "id": "588074c4-61e5-4215-814f-184b896e7759",
   "metadata": {},
   "outputs": [
    {
     "name": "stdout",
     "output_type": "stream",
     "text": [
      "10\n",
      "9\n",
      "8\n",
      "7\n",
      "6\n",
      "5\n",
      "4\n",
      "3\n",
      "2\n",
      "1\n"
     ]
    }
   ],
   "source": [
    "l1=[]\n",
    "for i in l:\n",
    "    print(i)\n",
    "    l1.append(i)"
   ]
  },
  {
   "cell_type": "code",
   "execution_count": 34,
   "id": "46393513-568c-447d-b685-5160135a93be",
   "metadata": {},
   "outputs": [
    {
     "data": {
      "text/plain": [
       "[10, 9, 8, 7, 6, 5, 4, 3, 2, 1]"
      ]
     },
     "execution_count": 34,
     "metadata": {},
     "output_type": "execute_result"
    }
   ],
   "source": [
    "l1"
   ]
  },
  {
   "cell_type": "code",
   "execution_count": null,
   "id": "42c7d091-ed81-4e95-a08c-d4a2878a686b",
   "metadata": {},
   "outputs": [],
   "source": []
  }
 ],
 "metadata": {
  "kernelspec": {
   "display_name": "Python 3 (ipykernel)",
   "language": "python",
   "name": "python3"
  },
  "language_info": {
   "codemirror_mode": {
    "name": "ipython",
    "version": 3
   },
   "file_extension": ".py",
   "mimetype": "text/x-python",
   "name": "python",
   "nbconvert_exporter": "python",
   "pygments_lexer": "ipython3",
   "version": "3.10.8"
  }
 },
 "nbformat": 4,
 "nbformat_minor": 5
}
